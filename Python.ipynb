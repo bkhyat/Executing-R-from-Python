{
 "cells": [
  {
   "cell_type": "code",
   "execution_count": 1,
   "id": "763a7853",
   "metadata": {},
   "outputs": [],
   "source": [
    "# col1 -> Black/White\n",
    "# col2 -> 0/1\n",
    "\n",
    "# crossFreqCounts 4x2\n",
    "\n",
    "\n",
    "# p-Value, Chi-Square, Counts\n",
    "\n",
    "\n",
    "# 3rd use case:\n",
    "# \tp Value, Chi-Square, Counts(Python)\n",
    "import numpy as np\n",
    "import pandas as pd\n",
    "import random\n",
    "from scipy import stats"
   ]
  },
  {
   "cell_type": "code",
   "execution_count": 2,
   "id": "beafce01",
   "metadata": {},
   "outputs": [
    {
     "data": {
      "text/plain": [
       "array([['White', 'White', 'White', 'Black', 'Black', 'Black', 'White',\n",
       "        'White', 'Black', 'Black', 'White', 'Black', 'Black', 'White',\n",
       "        'Black', 'Black', 'Black', 'Black', 'White', 'Black', 'Black',\n",
       "        'Black', 'Black', 'White', 'Black', 'Black', 'Black', 'White',\n",
       "        'Black', 'Black', 'White', 'White', 'Black', 'Black', 'Black',\n",
       "        'White', 'Black', 'Black', 'White', 'White', 'White', 'White',\n",
       "        'Black', 'Black', 'White', 'Black', 'Black', 'White', 'White',\n",
       "        'White'],\n",
       "       ['1', '0', '1', '1', '1', '0', '0', '0', '1', '1', '1', '0', '0',\n",
       "        '1', '0', '1', '1', '1', '0', '0', '1', '1', '0', '1', '0', '0',\n",
       "        '0', '1', '0', '0', '0', '0', '0', '1', '0', '0', '0', '1', '1',\n",
       "        '0', '0', '1', '0', '0', '0', '1', '1', '0', '0', '1']],\n",
       "      dtype='<U11')"
      ]
     },
     "execution_count": 2,
     "metadata": {},
     "output_type": "execute_result"
    }
   ],
   "source": [
    "data=np.array([[random.choice(x) for _ in range(50)] for x in [['Black', 'White'], [0,1]]])\n",
    "data"
   ]
  },
  {
   "cell_type": "code",
   "execution_count": 3,
   "id": "3baeeb2b",
   "metadata": {},
   "outputs": [
    {
     "data": {
      "text/plain": [
       "(array(['0', '1', 'Black', 'White'], dtype='<U11'),\n",
       " array([28, 22, 29, 21], dtype=int64))"
      ]
     },
     "execution_count": 3,
     "metadata": {},
     "output_type": "execute_result"
    }
   ],
   "source": [
    "unique, count = np.unique(data, return_counts=True)\n",
    "unique, count"
   ]
  },
  {
   "cell_type": "code",
   "execution_count": 4,
   "id": "9cd9ff3b",
   "metadata": {},
   "outputs": [
    {
     "data": {
      "text/plain": [
       "Power_divergenceResult(statistic=2.0, pvalue=0.5724067044708798)"
      ]
     },
     "execution_count": 4,
     "metadata": {},
     "output_type": "execute_result"
    }
   ],
   "source": [
    "stats.chisquare(count)"
   ]
  },
  {
   "cell_type": "code",
   "execution_count": 5,
   "id": "2ec9c74b",
   "metadata": {},
   "outputs": [
    {
     "data": {
      "text/plain": [
       "array([[16, 13],\n",
       "       [12,  9]], dtype=int64)"
      ]
     },
     "execution_count": 5,
     "metadata": {},
     "output_type": "execute_result"
    }
   ],
   "source": [
    "cross_freq = pd.crosstab(data[0], data[1]).values\n",
    "cross_freq"
   ]
  },
  {
   "cell_type": "code",
   "execution_count": 6,
   "id": "4b64f565",
   "metadata": {},
   "outputs": [
    {
     "data": {
      "text/plain": [
       "Power_divergenceResult(statistic=array([0.57142857, 0.72727273]), pvalue=array([0.4496918 , 0.39376863]))"
      ]
     },
     "execution_count": 6,
     "metadata": {},
     "output_type": "execute_result"
    }
   ],
   "source": [
    "stats.chisquare(cross_freq)"
   ]
  },
  {
   "cell_type": "code",
   "execution_count": 7,
   "id": "bdedc542",
   "metadata": {},
   "outputs": [
    {
     "name": "stdout",
     "output_type": "stream",
     "text": [
      "[('White', 'White', 'White', 'Black', 'Black', 'Black', 'White', 'White', 'Black', 'Black', 'White', 'Black', 'Black', 'White', 'Black', 'Black', 'Black', 'Black', 'White', 'Black', 'Black', 'Black', 'Black', 'White', 'Black', 'Black', 'Black', 'White', 'Black', 'Black', 'White', 'White', 'Black', 'Black', 'Black', 'White', 'Black', 'Black', 'White', 'White', 'White', 'White', 'Black', 'Black', 'White', 'Black', 'Black', 'White', 'White', 'White'), ('1', '0', '1', '1', '1', '0', '0', '0', '1', '1', '1', '0', '0', '1', '0', '1', '1', '1', '0', '0', '1', '1', '0', '1', '0', '0', '0', '1', '0', '0', '0', '0', '0', '1', '0', '0', '0', '1', '1', '0', '0', '1', '0', '0', '0', '1', '1', '0', '0', '1')]\n"
     ]
    }
   ],
   "source": [
    "print([tuple(d) for d in data])"
   ]
  },
  {
   "cell_type": "code",
   "execution_count": null,
   "id": "000bd5d4",
   "metadata": {},
   "outputs": [],
   "source": [
    "import rpy2"
   ]
  },
  {
   "cell_type": "code",
   "execution_count": null,
   "id": "c9ae2568",
   "metadata": {},
   "outputs": [],
   "source": []
  }
 ],
 "metadata": {
  "kernelspec": {
   "display_name": "Python 3 (ipykernel)",
   "language": "python",
   "name": "python3"
  },
  "language_info": {
   "codemirror_mode": {
    "name": "ipython",
    "version": 3
   },
   "file_extension": ".py",
   "mimetype": "text/x-python",
   "name": "python",
   "nbconvert_exporter": "python",
   "pygments_lexer": "ipython3",
   "version": "3.7.5"
  }
 },
 "nbformat": 4,
 "nbformat_minor": 5
}
