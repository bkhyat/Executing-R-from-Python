{
 "cells": [
  {
   "cell_type": "code",
   "execution_count": 1,
   "id": "8f8109d8",
   "metadata": {},
   "outputs": [],
   "source": [
    "df <- data.frame(first=c('White', 'White', 'White', 'Black', 'Black', 'Black', 'White', 'White', 'Black', 'Black', 'White', 'Black', 'Black', 'White', 'Black', 'Black', 'Black', 'Black', 'White', 'Black', 'Black', 'Black', 'Black', 'White', 'Black', 'Black', 'Black', 'White', 'Black', 'Black', 'White', 'White', 'Black', 'Black', 'Black', 'White', 'Black', 'Black', 'White', 'White', 'White', 'White', 'Black', 'Black', 'White', 'Black', 'Black', 'White', 'White', 'White'),\n",
    "                second=c('1', '0', '1', '1', '1', '0', '0', '0', '1', '1', '1', '0', '0', '1', '0', '1', '1', '1', '0', '0', '1', '1', '0', '1', '0', '0', '0', '1', '0', '0', '0', '0', '0', '1', '0', '0', '0', '1', '1', '0', '0', '1', '0', '0', '0', '1', '1', '0', '0', '1'))"
   ]
  },
  {
   "cell_type": "code",
   "execution_count": 3,
   "id": "d6266735",
   "metadata": {},
   "outputs": [
    {
     "data": {
      "text/html": [
       "<table class=\"dataframe\">\n",
       "<caption>A data.frame: 2 × 2</caption>\n",
       "<thead>\n",
       "\t<tr><th></th><th scope=col>0</th><th scope=col>1</th></tr>\n",
       "\t<tr><th></th><th scope=col>&lt;int&gt;</th><th scope=col>&lt;int&gt;</th></tr>\n",
       "</thead>\n",
       "<tbody>\n",
       "\t<tr><th scope=row>Black</th><td>16</td><td>13</td></tr>\n",
       "\t<tr><th scope=row>White</th><td>12</td><td> 9</td></tr>\n",
       "</tbody>\n",
       "</table>\n"
      ],
      "text/latex": [
       "A data.frame: 2 × 2\n",
       "\\begin{tabular}{r|ll}\n",
       "  & 0 & 1\\\\\n",
       "  & <int> & <int>\\\\\n",
       "\\hline\n",
       "\tBlack & 16 & 13\\\\\n",
       "\tWhite & 12 &  9\\\\\n",
       "\\end{tabular}\n"
      ],
      "text/markdown": [
       "\n",
       "A data.frame: 2 × 2\n",
       "\n",
       "| <!--/--> | 0 &lt;int&gt; | 1 &lt;int&gt; |\n",
       "|---|---|---|\n",
       "| Black | 16 | 13 |\n",
       "| White | 12 |  9 |\n",
       "\n"
      ],
      "text/plain": [
       "      0  1 \n",
       "Black 16 13\n",
       "White 12  9"
      ]
     },
     "metadata": {},
     "output_type": "display_data"
    }
   ],
   "source": [
    "# counts <- (table(df))\n",
    "# Cross Frequency\n",
    "counts <- as.data.frame.matrix(table(df)) \n",
    "counts"
   ]
  },
  {
   "cell_type": "code",
   "execution_count": 7,
   "id": "ff82e2e5",
   "metadata": {
    "scrolled": true
   },
   "outputs": [
    {
     "data": {
      "text/plain": [
       "\n",
       "\tChi-squared test for given probabilities\n",
       "\n",
       "data:  stack(counts)[\"values\"]\n",
       "X-squared = 2, df = 3, p-value = 0.5724\n"
      ]
     },
     "metadata": {},
     "output_type": "display_data"
    }
   ],
   "source": [
    "# Chi squared test for sigular frequency\n",
    "\n",
    "chisq.test(stack(counts)['values'], correct=FALSE)"
   ]
  },
  {
   "cell_type": "code",
   "execution_count": 4,
   "id": "da81a357",
   "metadata": {},
   "outputs": [
    {
     "name": "stdout",
     "output_type": "stream",
     "text": [
      "\n",
      "\tChi-squared test for given probabilities\n",
      "\n",
      "data:  counts[1]\n",
      "X-squared = 0.57143, df = 1, p-value = 0.4497\n",
      "\n",
      "\n",
      "\tChi-squared test for given probabilities\n",
      "\n",
      "data:  counts[2]\n",
      "X-squared = 0.72727, df = 1, p-value = 0.3938\n",
      "\n"
     ]
    }
   ],
   "source": [
    "#Chi Squared test for cross frequency\n",
    "\n",
    "print(chisq.test(counts[1],  correct=FALSE))\n",
    "print(chisq.test(counts[2],  correct=FALSE))"
   ]
  },
  {
   "cell_type": "code",
   "execution_count": null,
   "id": "873178a7",
   "metadata": {},
   "outputs": [],
   "source": []
  }
 ],
 "metadata": {
  "kernelspec": {
   "display_name": "R",
   "language": "R",
   "name": "ir"
  },
  "language_info": {
   "codemirror_mode": "r",
   "file_extension": ".r",
   "mimetype": "text/x-r-source",
   "name": "R",
   "pygments_lexer": "r",
   "version": "4.1.2"
  }
 },
 "nbformat": 4,
 "nbformat_minor": 5
}
